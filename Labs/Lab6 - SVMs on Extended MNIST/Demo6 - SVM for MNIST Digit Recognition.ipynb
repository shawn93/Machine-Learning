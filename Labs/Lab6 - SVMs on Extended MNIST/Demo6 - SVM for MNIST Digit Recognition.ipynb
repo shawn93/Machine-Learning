{
 "cells": [
  {
   "cell_type": "markdown",
   "metadata": {},
   "source": [
    "# Demo 6: SVM for MNIST Digit Recognition\n",
    "\n",
    "In this demo, you will learn to:\n",
    "* Load and display images\n",
    "* Formulate image classification problems\n",
    "* Explain the limitations of linear classifiers for image classification\n",
    "* Build a simple SVM image classifier \n",
    "* Save and load results using `pickle`.\n",
    "\n",
    "For data, we will use the classic [MNIST](https://en.wikipedia.org/wiki/MNIST_database) data set used to recognize hand-written digits.  The dataset was originally produced in the 1980s and is now widely-used in machine learning classes as a simple image classification problem.  "
   ]
  },
  {
   "cell_type": "markdown",
   "metadata": {},
   "source": [
    "## Loading the Data\n",
    "\n",
    "First, we load the standard packages."
   ]
  },
  {
   "cell_type": "code",
   "execution_count": 75,
   "metadata": {
    "collapsed": true
   },
   "outputs": [],
   "source": [
    "import numpy as np\n",
    "import matplotlib\n",
    "import matplotlib.pyplot as plt\n",
    "%matplotlib inline"
   ]
  },
  {
   "cell_type": "markdown",
   "metadata": {},
   "source": [
    "Since the MNIST dataset is so widely-used, the `sklearn` module has the dataset built in.  It can be loaded as follows.  We see that the data is stored in an array with 1787 images, each 8 x 8."
   ]
  },
  {
   "cell_type": "code",
   "execution_count": 76,
   "metadata": {},
   "outputs": [
    {
     "data": {
      "text/plain": [
       "(1797, 8, 8)"
      ]
     },
     "execution_count": 76,
     "metadata": {},
     "output_type": "execute_result"
    }
   ],
   "source": [
    "from sklearn import datasets, linear_model, preprocessing\n",
    "digits = datasets.load_digits()\n",
    "images = digits.images\n",
    "labels = digits.target\n",
    "images.shape      #(1797, 8, 8)   每一个图片用8*8像素表示\n",
    "#labels.shape    #(1797,)   代表数字的具体值\n",
    "#images[1,:,:]\n",
    "# plt.imshow(images[1,:,:],  cmap='Greys_r') #因为像素太低所以很模糊 或plt.imshow(images[1],cmap='Greys_r') "
   ]
  },
  {
   "cell_type": "markdown",
   "metadata": {},
   "source": [
    "The above is fairly low-resolution.  We can get a more high-resolution 28 x 28 image data from the following command.  But, this will take a few minutes to load for some reason.  In this data format, each image is stored as a 784 = 28x28 row vector."
   ]
  },
  {
   "cell_type": "code",
   "execution_count": 77,
   "metadata": {},
   "outputs": [
    {
     "name": "stdout",
     "output_type": "stream",
     "text": [
      "done\n"
     ]
    }
   ],
   "source": [
    "from sklearn.datasets import fetch_mldata\n",
    "#加载数据\n",
    "mnist = fetch_mldata(\"MNIST original\")\n",
    "print(\"done\")"
   ]
  },
  {
   "cell_type": "code",
   "execution_count": 78,
   "metadata": {},
   "outputs": [
    {
     "data": {
      "text/plain": [
       "(70000, 784)"
      ]
     },
     "execution_count": 78,
     "metadata": {},
     "output_type": "execute_result"
    }
   ],
   "source": [
    "mnist.data.shape #(70000, 784)  ，70000组数据，没个图片是28*28=784个数据点"
   ]
  },
  {
   "cell_type": "markdown",
   "metadata": {},
   "source": [
    "We have 70000 image.  Each image is `28 x 28`, which is stored as a 784 pixel vector.  The following code plots a digit.  To do this, it reshapes the 784 dim vector to a `28 x 28` array and then uses the `plt.imshow` command.  "
   ]
  },
  {
   "cell_type": "code",
   "execution_count": 79,
   "metadata": {},
   "outputs": [
    {
     "data": {
      "image/png": "[encoded data removed]",
      "text/plain": [
       "<matplotlib.figure.Figure at 0x11ac1ce48>"
      ]
     },
     "metadata": {},
     "output_type": "display_data"
    }
   ],
   "source": [
    "def plt_digit(x):\n",
    "    nrow = 28\n",
    "    ncol = 28\n",
    "    xsq = x.reshape((nrow,ncol))\n",
    "    plt.imshow(xsq,  cmap='Greys_r')   #灰度图\n",
    "    plt.xticks([])   #轴标记\n",
    "    plt.yticks([])\n",
    "\n",
    "# Convert data to a matrix\n",
    "X = mnist.data\n",
    "y = mnist.target  #真实的数字\n",
    "\n",
    "# Select random digits\n",
    "nplt = 4\n",
    "nsamp = X.shape[0]  #多少张图片\n",
    "Iperm = np.random.permutation(nsamp)   #打乱（排列），返回副本(这里表示返回一个长度为nsamp的一维数组，shape:(70000,0))\n",
    "# print(Iperm.shape)    (70000,)\n",
    "\n",
    "# Plot the images using the subplot command\n",
    "for i in range(nplt):    #从0开始\n",
    "#     print(i)\n",
    "    ind = Iperm[i]\n",
    "    plt.subplot(1,nplt,i+1)   #1*nplt个图片，这里是第i+1个（index从1开始）\n",
    "    plt_digit(X[ind,:])"
   ]
  },
  {
   "cell_type": "markdown",
   "metadata": {},
   "source": [
    "## Trying a Logistic Regression Classifier\n",
    "\n",
    "To classify the digits, we will first use a logistic classifier.  We select a small number of samples for training. Generally, you would use more training samples, but the optimizer is very slow.  "
   ]
  },
  {
   "cell_type": "code",
   "execution_count": 80,
   "metadata": {
    "collapsed": true
   },
   "outputs": [],
   "source": [
    "y = mnist.target\n",
    "ntr = 5000\n",
    "Xtr = X[Iperm[:ntr],:]   #随机选5000个，因为Iperm是随机（排列）过的\n",
    "ytr = y[Iperm[:ntr]]"
   ]
  },
  {
   "cell_type": "markdown",
   "metadata": {},
   "source": [
    "Now we run the optimizer.  I have placed the `verbose=10` （冗余？？）option so that you can see the progress.  It may not appear in the browser but in the command line where you launched jupyter notebook.  This can take several minutes and will likely say that it ran out of iterations."
   ]
  },
  {
   "cell_type": "code",
   "execution_count": 81,
   "metadata": {},
   "outputs": [
    {
     "name": "stderr",
     "output_type": "stream",
     "text": [
      "/Users/Lovely-white/anaconda/lib/python3.6/site-packages/sklearn/linear_model/logistic.py:717: UserWarning: lbfgs failed to converge. Increase the number of iterations.\n",
      "  warnings.warn(\"lbfgs failed to converge. Increase the number \"\n",
      "[Parallel(n_jobs=1)]: Done   1 out of   1 | elapsed:   10.9s remaining:    0.0s\n",
      "[Parallel(n_jobs=1)]: Done   1 out of   1 | elapsed:   10.9s finished\n"
     ]
    },
    {
     "data": {
      "text/plain": [
       "LogisticRegression(C=1.0, class_weight=None, dual=False, fit_intercept=True,\n",
       "          intercept_scaling=1, max_iter=500, multi_class='multinomial',\n",
       "          n_jobs=1, penalty='l2', random_state=None, solver='lbfgs',\n",
       "          tol=0.0001, verbose=10, warm_start=False)"
      ]
     },
     "execution_count": 81,
     "metadata": {},
     "output_type": "execute_result"
    }
   ],
   "source": [
    "logreg = linear_model.LogisticRegression(verbose=10, multi_class='multinomial', \n",
    "                                         solver='lbfgs', max_iter=500)  #lbfgs：大规模优化算法（一种优化算法？like随机梯度下降）\n",
    "logreg.fit(Xtr,ytr)"
   ]
  },
  {
   "cell_type": "markdown",
   "metadata": {
    "collapsed": true
   },
   "source": [
    "Before continuing, since it takes so long to run the optimizer, let's save the results in a file.  You can use `pickle` module for this purpose."
   ]
  },
  {
   "cell_type": "code",
   "execution_count": 82,
   "metadata": {
    "collapsed": true
   },
   "outputs": [],
   "source": [
    "import pickle    #用来序列化 持久化的包\n",
    "\n",
    "with open( \"mnist_logreg.p\", \"wb\" ) as fp:   #with语句类似java中的try  \"wb\"write binary/bytes?\n",
    "    pickle.dump( [logreg, X, y, Iperm],  fp)    #将对象存到文件"
   ]
  },
  {
   "cell_type": "markdown",
   "metadata": {},
   "source": [
    "Then, we can recover the objects via the `pickle.load` command"
   ]
  },
  {
   "cell_type": "code",
   "execution_count": 83,
   "metadata": {
    "collapsed": true
   },
   "outputs": [],
   "source": [
    "with open( \"mnist_logreg.p\", \"rb\" ) as fp:   #read binary\n",
    "    logreg, X, y, Iperm = pickle.load(fp)"
   ]
  },
  {
   "cell_type": "markdown",
   "metadata": {},
   "source": [
    "Now, we can measure the accuracy on the test data."
   ]
  },
  {
   "cell_type": "code",
   "execution_count": 84,
   "metadata": {},
   "outputs": [
    {
     "name": "stdout",
     "output_type": "stream",
     "text": [
      "Accuaracy = 0.866554\n"
     ]
    }
   ],
   "source": [
    "Xts = X[Iperm[ntr:],:]\n",
    "yts = y[Iperm[ntr:]]\n",
    "yhat = logreg.predict(Xts)\n",
    "acc = np.mean(yhat == yts)\n",
    "print('Accuaracy = {0:f}'.format(acc))"
   ]
  },
  {
   "cell_type": "markdown",
   "metadata": {},
   "source": [
    "You should get an accuracy of around 86%.  This may sounds OK, but it is actually very poor.  Had we increased the number of training samples, it would have improved to about 92%, but that is still very bad.  To illustrate, let's plot some of the errors.  "
   ]
  },
  {
   "cell_type": "code",
   "execution_count": 85,
   "metadata": {},
   "outputs": [
    {
     "data": {
      "image/png": "[encoded data removed]",
      "text/plain": [
       "<matplotlib.figure.Figure at 0x11ddbfe48>"
      ]
     },
     "metadata": {},
     "output_type": "display_data"
    }
   ],
   "source": [
    "nplt = 4\n",
    "Ierr = np.where(yts != yhat)[0]\n",
    "# print(np.where(yts != yhat))  输出是个tuple,[0]是对应的下标\n",
    "\n",
    "plt.figure(figsize=(10, 4))\n",
    "for i in range(nplt):        \n",
    "    plt.subplot(1,nplt,i+1)        \n",
    "    ind = Ierr[i]    \n",
    "    plt_digit(Xts[ind,:])        \n",
    "    title = 'true={0:d} est={1:d}'.format(yts[ind].astype(int), yhat[ind].astype(int))\n",
    "    plt.title(title)"
   ]
  },
  {
   "cell_type": "markdown",
   "metadata": {},
   "source": [
    "Obviously, some of these digits are very easy to classify for a human.  We can get more fine-grained analysis of the digit errors by computing the confusion matrix."
   ]
  },
  {
   "cell_type": "code",
   "execution_count": 86,
   "metadata": {},
   "outputs": [
    {
     "name": "stdout",
     "output_type": "stream",
     "text": [
      "[[ 0.936  0.     0.014  0.004  0.003  0.016  0.016  0.001  0.01   0.001]\n",
      " [ 0.     0.968  0.008  0.003  0.001  0.006  0.001  0.005  0.01   0.004]\n",
      " [ 0.007  0.011  0.85   0.027  0.019  0.009  0.014  0.013  0.04   0.01 ]\n",
      " [ 0.01   0.005  0.035  0.837  0.002  0.057  0.005  0.013  0.03   0.014]\n",
      " [ 0.003  0.008  0.011  0.001  0.852  0.008  0.021  0.009  0.01   0.074]\n",
      " [ 0.019  0.006  0.018  0.049  0.012  0.77   0.025  0.007  0.058  0.015]\n",
      " [ 0.006  0.002  0.031  0.001  0.015  0.019  0.919  0.001  0.006  0.   ]\n",
      " [ 0.004  0.004  0.02   0.009  0.011  0.002  0.001  0.881  0.008  0.068]\n",
      " [ 0.009  0.018  0.028  0.034  0.007  0.071  0.014  0.003  0.796  0.02 ]\n",
      " [ 0.006  0.007  0.005  0.014  0.045  0.011  0.001  0.056  0.022  0.833]]\n"
     ]
    },
    {
     "data": {
      "text/plain": [
       "<matplotlib.colorbar.Colorbar at 0x1172e6cf8>"
      ]
     },
     "execution_count": 86,
     "metadata": {},
     "output_type": "execute_result"
    },
    {
     "data": {
      "image/png": "[encoded data removed]",
      "text/plain": [
       "<matplotlib.figure.Figure at 0x129d89518>"
      ]
     },
     "metadata": {},
     "output_type": "display_data"
    }
   ],
   "source": [
    "from sklearn.metrics import confusion_matrix\n",
    "C = confusion_matrix(yts,yhat) #混淆矩阵：真实vs预测\n",
    "\n",
    "# Normalize the confusion matrix\n",
    "Csum = np.sum(C,1)  #axis=1,左右压扁,\n",
    "# print(Csum.shape) #(10,)\n",
    "C = C / Csum[None,:]  #行和列和都不为1，这在干啥？？？\n",
    "\n",
    "# Print the confusion matrix\n",
    "print(np.array_str(C, precision=3, suppress_small=True))\n",
    "plt.imshow(C, interpolation='none')   #插值运算。interpolation='nearest'则近似成块？\n",
    "plt.colorbar()   #右边那个条条"
   ]
  },
  {
   "cell_type": "markdown",
   "metadata": {},
   "source": [
    "## Visualizing the Weights\n",
    "\n",
    "To see the problem with the logistic classifier, it is useful to plot the weights for each digit.  "
   ]
  },
  {
   "cell_type": "code",
   "execution_count": 87,
   "metadata": {},
   "outputs": [
    {
     "name": "stdout",
     "output_type": "stream",
     "text": [
      "(10, 784)\n"
     ]
    },
    {
     "data": {
      "image/png": "[encoded data removed]",
      "text/plain": [
       "<matplotlib.figure.Figure at 0x11de7f8d0>"
      ]
     },
     "metadata": {},
     "output_type": "display_data"
    }
   ],
   "source": [
    "W = logreg.coef_\n",
    "# print(W.shape)  (10, 784)\n",
    "nlabel = W.shape[0]\n",
    "plt.figure(figsize=(10, 6))\n",
    "for i in range(nlabel):\n",
    "    plt.subplot(2,5,i+1)\n",
    "    plt_digit(W[i,:])    #打印系数w（也是一个矩阵，表示每一个像素点的wight）\n",
    "    plt.title('{0:d}'.format(i))"
   ]
  },
  {
   "cell_type": "markdown",
   "metadata": {},
   "source": [
    "What you see is that each weight is a very blurry version of the digit.  The blurriness is due to the fact that weight must correlate with all shifts, rotations and other variations of the digits.  As a result, the weights begin to correlate with other incorrect digits leading to poor performance."
   ]
  },
  {
   "cell_type": "markdown",
   "metadata": {},
   "source": [
    "## Run an SVM classifier\n",
    "\n",
    "We now try an SVM classifier.  The parameters are given by \n",
    "\n",
    "https://martin-thoma.com/svm-with-sklearn/\n",
    "\n",
    "This website has a nice summary of the main equations for SVM as well.  That site trained on 40000 samples and tested on 20000.  But, to make this run faster, we will train on 10000 and test on 10000.  If you increase to 40000 training samples, you can get past 99% accuracy.\n",
    "\n",
    "First, we import the SVM package and construct the SVC with the parameters."
   ]
  },
  {
   "cell_type": "code",
   "execution_count": 88,
   "metadata": {
    "collapsed": true
   },
   "outputs": [],
   "source": [
    "from sklearn import svm\n",
    "\n",
    "# Create a classifier: a support vector classifier\n",
    "svc = svm.SVC(probability=False,  kernel=\"rbf\", C=2.8, gamma=.0073,verbose=10)   #径向基函数 (Radial Basis Function 简称 RBF"
   ]
  },
  {
   "cell_type": "markdown",
   "metadata": {},
   "source": [
    "Next, we get the training and test data.  The features are re-scaled to be between -1 and 1."
   ]
  },
  {
   "cell_type": "code",
   "execution_count": 89,
   "metadata": {
    "collapsed": true
   },
   "outputs": [],
   "source": [
    "Xs = X/255.0*2 - 1  #原本值得范围是0-256 （16^2）\n",
    "ntr = 10000\n",
    "nts = 10000\n",
    "Xtr = Xs[Iperm[:ntr],:]\n",
    "ytr = y[Iperm[:ntr]]\n",
    "Xts = Xs[Iperm[ntr:ntr+nts],:]\n",
    "yts = y[Iperm[ntr:ntr+nts]]"
   ]
  },
  {
   "cell_type": "markdown",
   "metadata": {},
   "source": [
    "We fit the training data.  Again, this will take several minutes."
   ]
  },
  {
   "cell_type": "code",
   "execution_count": 90,
   "metadata": {},
   "outputs": [
    {
     "name": "stdout",
     "output_type": "stream",
     "text": [
      "[LibSVM]"
     ]
    },
    {
     "data": {
      "text/plain": [
       "SVC(C=2.8, cache_size=200, class_weight=None, coef0=0.0,\n",
       "  decision_function_shape=None, degree=3, gamma=0.0073, kernel='rbf',\n",
       "  max_iter=-1, probability=False, random_state=None, shrinking=True,\n",
       "  tol=0.001, verbose=10)"
      ]
     },
     "execution_count": 90,
     "metadata": {},
     "output_type": "execute_result"
    }
   ],
   "source": [
    "svc.fit(Xtr,ytr)"
   ]
  },
  {
   "cell_type": "markdown",
   "metadata": {},
   "source": [
    "Save the results in case you want them without re-running the above the code."
   ]
  },
  {
   "cell_type": "code",
   "execution_count": 91,
   "metadata": {
    "collapsed": true
   },
   "outputs": [],
   "source": [
    "import pickle\n",
    "\n",
    "with open( \"mnist_svc.p\", \"wb\" ) as fp:\n",
    "    pickle.dump( [svc, Xs, y, Iperm, ntr, nts], fp)"
   ]
  },
  {
   "cell_type": "markdown",
   "metadata": {},
   "source": [
    "We can reload the data"
   ]
  },
  {
   "cell_type": "code",
   "execution_count": 92,
   "metadata": {
    "collapsed": true
   },
   "outputs": [],
   "source": [
    "import pickle\n",
    "with open( \"mnist_svc.p\", \"rb\" ) as fp:\n",
    "    svc, Xs, y, Iperm, ntr, nts = pickle.load(fp)\n",
    "Xtr = Xs[Iperm[:ntr],:]\n",
    "ytr = y[Iperm[:ntr]]\n",
    "Xts = Xs[Iperm[ntr:ntr+nts],:]\n",
    "yts = y[Iperm[ntr:ntr+nts]]"
   ]
  },
  {
   "cell_type": "markdown",
   "metadata": {},
   "source": [
    "Measure the accuracy on the test data.  The prediction can take several minutes too -- SVMs are *very* slow!"
   ]
  },
  {
   "cell_type": "code",
   "execution_count": 93,
   "metadata": {},
   "outputs": [
    {
     "name": "stdout",
     "output_type": "stream",
     "text": [
      "Accuaracy = 0.968200\n"
     ]
    }
   ],
   "source": [
    "yhat_ts = svc.predict(Xts)\n",
    "acc = np.mean(yhat_ts == yts)\n",
    "print('Accuaracy = {0:f}'.format(acc))"
   ]
  },
  {
   "cell_type": "markdown",
   "metadata": {},
   "source": [
    "You should get an accuracy of around 96%.  Again, had you trained on all 50,000 samples, it would have been much better -- close to 98.5%.  But, even this result is much better than logistic regression.\n",
    "\n",
    "Since even the prediction (sometimes called inference) is slow with SVMs, we will save the results in `pickle` file."
   ]
  },
  {
   "cell_type": "code",
   "execution_count": 94,
   "metadata": {
    "collapsed": true
   },
   "outputs": [],
   "source": [
    "with open(\"mnist_svc_test.p\", \"wb\") as fp:\n",
    "    pickle.dump([yts,yhat_ts,Xts], fp)"
   ]
  },
  {
   "cell_type": "markdown",
   "metadata": {},
   "source": [
    "Instead of running the prediction again, you can recapture the data with the following comamnd"
   ]
  },
  {
   "cell_type": "code",
   "execution_count": 95,
   "metadata": {
    "collapsed": true
   },
   "outputs": [],
   "source": [
    "with open(\"mnist_svc_test.p\", \"rb\") as fp:\n",
    "    yts,yhat1,Xts = pickle.load(fp)"
   ]
  },
  {
   "cell_type": "markdown",
   "metadata": {},
   "source": [
    "Plot some errors"
   ]
  },
  {
   "cell_type": "code",
   "execution_count": 96,
   "metadata": {},
   "outputs": [
    {
     "data": {
      "image/png": "[encoded data removed]",
      "text/plain": [
       "<matplotlib.figure.Figure at 0x129fd3828>"
      ]
     },
     "metadata": {},
     "output_type": "display_data"
    }
   ],
   "source": [
    "Ierr = np.where((yhat_ts != yts))[0]\n",
    "nplt = 4\n",
    "plt.figure(figsize=(10, 4))\n",
    "for i in range(nplt):        \n",
    "    plt.subplot(1,nplt,i+1)        \n",
    "    ind = Ierr[i]    \n",
    "    plt_digit(Xts[ind,:])        \n",
    "    title = 'true={0:d} est={1:d}'.format(yts[ind].astype(int), yhat1[ind].astype(int))\n",
    "    plt.title(title)"
   ]
  },
  {
   "cell_type": "markdown",
   "metadata": {},
   "source": [
    "We see that again a human would not have made these errors, but the digits in error are much less clear."
   ]
  },
  {
   "cell_type": "markdown",
   "metadata": {},
   "source": [
    "## Looking at the Support Vectors\n",
    "\n",
    "Let's take a look at the support vectors.  We see there about 5000 support vectors.  So, about half the training samples were used as SVs.  This is partly why the prediction was so slow."
   ]
  },
  {
   "cell_type": "code",
   "execution_count": 97,
   "metadata": {},
   "outputs": [
    {
     "data": {
      "text/plain": [
       "(4939, 784)"
      ]
     },
     "execution_count": 97,
     "metadata": {},
     "output_type": "execute_result"
    }
   ],
   "source": [
    "S = svc.support_vectors_\n",
    "S.shape  #4939个SV， 28*28=784个数据点"
   ]
  },
  {
   "cell_type": "markdown",
   "metadata": {
    "collapsed": true
   },
   "source": [
    "We can plot some of the vectors."
   ]
  },
  {
   "cell_type": "code",
   "execution_count": 98,
   "metadata": {},
   "outputs": [
    {
     "data": {
      "image/png": "[encoded data removed]",
      "text/plain": [
       "<matplotlib.figure.Figure at 0x11dcf1cc0>"
      ]
     },
     "metadata": {},
     "output_type": "display_data"
    }
   ],
   "source": [
    "nplt = 4\n",
    "nsv = S.shape[0]\n",
    "Iperms = np.random.permutation(nsv)\n",
    "plt.figure(figsize=(10, 4))\n",
    "for i in range(nplt):        \n",
    "    plt.subplot(1,nplt,i+1)        \n",
    "    ind = Iperms[i]\n",
    "    plt_digit(S[ind,:])        "
   ]
  },
  {
   "cell_type": "code",
   "execution_count": null,
   "metadata": {
    "collapsed": true
   },
   "outputs": [],
   "source": []
  },
  {
   "cell_type": "code",
   "execution_count": null,
   "metadata": {
    "collapsed": true
   },
   "outputs": [],
   "source": []
  }
 ],
 "metadata": {
  "anaconda-cloud": {},
  "kernelspec": {
   "display_name": "Python 3",
   "language": "python",
   "name": "python3"
  },
  "language_info": {
   "codemirror_mode": {
    "name": "ipython",
    "version": 3
   },
   "file_extension": ".py",
   "mimetype": "text/x-python",
   "name": "python",
   "nbconvert_exporter": "python",
   "pygments_lexer": "ipython3",
   "version": "3.6.1"
  }
 },
 "nbformat": 4,
 "nbformat_minor": 1
}
